{
 "cells": [
  {
   "cell_type": "markdown",
   "metadata": {
    "colab_type": "text",
    "id": "NZblWn4hCP6S"
   },
   "source": [
    "# **`Twitter Cleaning Script where stowords are Removed from Text`**"
   ]
  },
  {
   "cell_type": "code",
   "execution_count": 286,
   "metadata": {
    "colab": {},
    "colab_type": "code",
    "id": "rpIfD8iovkeB"
   },
   "outputs": [],
   "source": [
    "import pandas as pd\n",
    "import numpy as np\n",
    "from textblob import TextBlob\n",
    "import matplotlib as mpl\n",
    "import matplotlib.pyplot as plt\n",
    "import csv\n",
    "import nltk\n",
    "from nltk.corpus import stopwords\n",
    "from sklearn.feature_extraction.text import CountVectorizer ,TfidfVectorizer,TfidfTransformer\n",
    "from sklearn.model_selection import train_test_split"
   ]
  },
  {
   "cell_type": "code",
   "execution_count": 287,
   "metadata": {
    "colab": {},
    "colab_type": "code",
    "id": "bI8lUQ2nv6gY"
   },
   "outputs": [],
   "source": [
    "import pandas as pd\n",
    "# df=pd.read_csv(\"training-Apple-v1.csv\",sep=\",\",names=['id','item','text','liked','clean_text'],encoding=\"ISO-8859-1\");\n",
    "\n",
    "#df = pd.DataFrame()\n",
    "# df=pd.read_csv(\"Tweets_Air.csv\",sep=\",\",encoding=\"ISO-8859-1\");\n",
    "df=pd.read_csv(\"/Users/sourabhsharma/Desktop/ncu/untitled folder/file.csv\",sep=\",\",encoding=\"ISO-8859-1\");\n"
   ]
  },
  {
   "cell_type": "code",
   "execution_count": 288,
   "metadata": {
    "colab": {
     "base_uri": "https://localhost:8080/",
     "height": 34
    },
    "colab_type": "code",
    "id": "pjE1dam5iN4r",
    "outputId": "b284bcf1-8b2a-452a-9459-caff40fb6f86"
   },
   "outputs": [
    {
     "data": {
      "text/plain": [
       "3534"
      ]
     },
     "execution_count": 288,
     "metadata": {},
     "output_type": "execute_result"
    }
   ],
   "source": [
    "df.size"
   ]
  },
  {
   "cell_type": "code",
   "execution_count": 289,
   "metadata": {
    "colab": {
     "base_uri": "https://localhost:8080/",
     "height": 34
    },
    "colab_type": "code",
    "id": "QURTktfNhWG0",
    "outputId": "b6cd6b1f-2475-482e-b27f-2ccc48776c2c"
   },
   "outputs": [
    {
     "data": {
      "text/plain": [
       "3534"
      ]
     },
     "execution_count": 289,
     "metadata": {},
     "output_type": "execute_result"
    }
   ],
   "source": [
    "df=df.dropna()\n",
    "df.size"
   ]
  },
  {
   "cell_type": "code",
   "execution_count": 290,
   "metadata": {
    "colab": {
     "base_uri": "https://localhost:8080/",
     "height": 204
    },
    "colab_type": "code",
    "id": "fU71G7lWjNTU",
    "outputId": "735ccbd2-dbd8-4b77-e4f4-c0e05ba840c8"
   },
   "outputs": [
    {
     "data": {
      "text/html": [
       "<div>\n",
       "<style scoped>\n",
       "    .dataframe tbody tr th:only-of-type {\n",
       "        vertical-align: middle;\n",
       "    }\n",
       "\n",
       "    .dataframe tbody tr th {\n",
       "        vertical-align: top;\n",
       "    }\n",
       "\n",
       "    .dataframe thead th {\n",
       "        text-align: right;\n",
       "    }\n",
       "</style>\n",
       "<table border=\"1\" class=\"dataframe\">\n",
       "  <thead>\n",
       "    <tr style=\"text-align: right;\">\n",
       "      <th></th>\n",
       "      <th>id</th>\n",
       "      <th>created_at</th>\n",
       "      <th>text</th>\n",
       "    </tr>\n",
       "  </thead>\n",
       "  <tbody>\n",
       "    <tr>\n",
       "      <th>0</th>\n",
       "      <td>1295375829304827904</td>\n",
       "      <td>2020-08-17 15:03:59</td>\n",
       "      <td>A year ago, I had just spent my first night of about 45 in hospitals and acute care facilities after a devastatingâ¦ https://t.co/5nzFa0diqV</td>\n",
       "    </tr>\n",
       "    <tr>\n",
       "      <th>1</th>\n",
       "      <td>1294020145262874625</td>\n",
       "      <td>2020-08-13 21:16:59</td>\n",
       "      <td>Week after immunotherapy started, so far worst side effect is fatigue for a couple of days with a slightly diminishâ¦ https://t.co/bqxca9iHUf</td>\n",
       "    </tr>\n",
       "    <tr>\n",
       "      <th>2</th>\n",
       "      <td>1293251549653880832</td>\n",
       "      <td>2020-08-11 18:22:51</td>\n",
       "      <td>@germanrlopez @DavidAFrench My brother in law (a Brazilian) chaired a national Latino/a student organization recentâ¦ https://t.co/mEcdq4RPm0</td>\n",
       "    </tr>\n",
       "    <tr>\n",
       "      <th>3</th>\n",
       "      <td>1292587503199887361</td>\n",
       "      <td>2020-08-09 22:24:10</td>\n",
       "      <td>@talowery2015 https://t.co/LU4HVJ0R0s</td>\n",
       "    </tr>\n",
       "    <tr>\n",
       "      <th>4</th>\n",
       "      <td>1291514661339365378</td>\n",
       "      <td>2020-08-06 23:21:05</td>\n",
       "      <td>Encouraging blood work from yesterday. Cancer antigen is down 10 points well into normal range, liver markers highâ¦ https://t.co/MA39YrlXju</td>\n",
       "    </tr>\n",
       "  </tbody>\n",
       "</table>\n",
       "</div>"
      ],
      "text/plain": [
       "                    id           created_at  \\\n",
       "0  1295375829304827904  2020-08-17 15:03:59   \n",
       "1  1294020145262874625  2020-08-13 21:16:59   \n",
       "2  1293251549653880832  2020-08-11 18:22:51   \n",
       "3  1292587503199887361  2020-08-09 22:24:10   \n",
       "4  1291514661339365378  2020-08-06 23:21:05   \n",
       "\n",
       "                                                                                                                                             text  \n",
       "0   A year ago, I had just spent my first night of about 45 in hospitals and acute care facilities after a devastatingâ¦ https://t.co/5nzFa0diqV  \n",
       "1  Week after immunotherapy started, so far worst side effect is fatigue for a couple of days with a slightly diminishâ¦ https://t.co/bqxca9iHUf  \n",
       "2  @germanrlopez @DavidAFrench My brother in law (a Brazilian) chaired a national Latino/a student organization recentâ¦ https://t.co/mEcdq4RPm0  \n",
       "3                                                                                                           @talowery2015 https://t.co/LU4HVJ0R0s  \n",
       "4   Encouraging blood work from yesterday. Cancer antigen is down 10 points well into normal range, liver markers highâ¦ https://t.co/MA39YrlXju  "
      ]
     },
     "execution_count": 290,
     "metadata": {},
     "output_type": "execute_result"
    }
   ],
   "source": [
    "df.head()"
   ]
  },
  {
   "cell_type": "code",
   "execution_count": 291,
   "metadata": {
    "colab": {
     "base_uri": "https://localhost:8080/",
     "height": 180
    },
    "colab_type": "code",
    "id": "fL8ckDsR6g5S",
    "outputId": "318fb63b-ebc4-4822-93cc-01d8229cd6bb"
   },
   "outputs": [
    {
     "ename": "NameError",
     "evalue": "name 'ast' is not defined",
     "output_type": "error",
     "traceback": [
      "\u001b[0;31m---------------------------------------------------------------------------\u001b[0m",
      "\u001b[0;31mNameError\u001b[0m                                 Traceback (most recent call last)",
      "\u001b[0;32m<ipython-input-291-6de26d78a70f>\u001b[0m in \u001b[0;36m<module>\u001b[0;34m\u001b[0m\n\u001b[0;32m----> 1\u001b[0;31m \u001b[0mdf\u001b[0m\u001b[0;34m[\u001b[0m\u001b[0;34m'text'\u001b[0m\u001b[0;34m]\u001b[0m\u001b[0;34m=\u001b[0m\u001b[0mdf\u001b[0m\u001b[0;34m[\u001b[0m\u001b[0;34m'text'\u001b[0m\u001b[0;34m]\u001b[0m\u001b[0;34m.\u001b[0m\u001b[0mapply\u001b[0m\u001b[0;34m(\u001b[0m\u001b[0mast\u001b[0m\u001b[0;34m.\u001b[0m\u001b[0mliteral_eval\u001b[0m\u001b[0;34m)\u001b[0m\u001b[0;34m.\u001b[0m\u001b[0mstr\u001b[0m\u001b[0;34m.\u001b[0m\u001b[0mdecode\u001b[0m\u001b[0;34m(\u001b[0m\u001b[0;34m\"utf-8\"\u001b[0m\u001b[0;34m)\u001b[0m\u001b[0;34m\u001b[0m\u001b[0;34m\u001b[0m\u001b[0m\n\u001b[0m\u001b[1;32m      2\u001b[0m \u001b[0;34m\u001b[0m\u001b[0m\n",
      "\u001b[0;31mNameError\u001b[0m: name 'ast' is not defined"
     ]
    }
   ],
   "source": [
    "df['text']=df['text'].apply(ast.literal_eval).str.decode(\"utf-8\")\n",
    "\n"
   ]
  },
  {
   "cell_type": "code",
   "execution_count": 292,
   "metadata": {
    "colab": {
     "base_uri": "https://localhost:8080/",
     "height": 204
    },
    "colab_type": "code",
    "id": "-_TroDEsPlpo",
    "outputId": "ea9d2e26-d972-4881-f08a-3d9f143d79db"
   },
   "outputs": [
    {
     "data": {
      "text/html": [
       "<div>\n",
       "<style scoped>\n",
       "    .dataframe tbody tr th:only-of-type {\n",
       "        vertical-align: middle;\n",
       "    }\n",
       "\n",
       "    .dataframe tbody tr th {\n",
       "        vertical-align: top;\n",
       "    }\n",
       "\n",
       "    .dataframe thead th {\n",
       "        text-align: right;\n",
       "    }\n",
       "</style>\n",
       "<table border=\"1\" class=\"dataframe\">\n",
       "  <thead>\n",
       "    <tr style=\"text-align: right;\">\n",
       "      <th></th>\n",
       "      <th>id</th>\n",
       "      <th>created_at</th>\n",
       "      <th>text</th>\n",
       "    </tr>\n",
       "  </thead>\n",
       "  <tbody>\n",
       "    <tr>\n",
       "      <th>0</th>\n",
       "      <td>1295375829304827904</td>\n",
       "      <td>2020-08-17 15:03:59</td>\n",
       "      <td>A year ago, I had just spent my first night of about 45 in hospitals and acute care facilities after a devastatingâ¦ https://t.co/5nzFa0diqV</td>\n",
       "    </tr>\n",
       "    <tr>\n",
       "      <th>1</th>\n",
       "      <td>1294020145262874625</td>\n",
       "      <td>2020-08-13 21:16:59</td>\n",
       "      <td>Week after immunotherapy started, so far worst side effect is fatigue for a couple of days with a slightly diminishâ¦ https://t.co/bqxca9iHUf</td>\n",
       "    </tr>\n",
       "    <tr>\n",
       "      <th>2</th>\n",
       "      <td>1293251549653880832</td>\n",
       "      <td>2020-08-11 18:22:51</td>\n",
       "      <td>@germanrlopez @DavidAFrench My brother in law (a Brazilian) chaired a national Latino/a student organization recentâ¦ https://t.co/mEcdq4RPm0</td>\n",
       "    </tr>\n",
       "    <tr>\n",
       "      <th>3</th>\n",
       "      <td>1292587503199887361</td>\n",
       "      <td>2020-08-09 22:24:10</td>\n",
       "      <td>@talowery2015 https://t.co/LU4HVJ0R0s</td>\n",
       "    </tr>\n",
       "    <tr>\n",
       "      <th>4</th>\n",
       "      <td>1291514661339365378</td>\n",
       "      <td>2020-08-06 23:21:05</td>\n",
       "      <td>Encouraging blood work from yesterday. Cancer antigen is down 10 points well into normal range, liver markers highâ¦ https://t.co/MA39YrlXju</td>\n",
       "    </tr>\n",
       "  </tbody>\n",
       "</table>\n",
       "</div>"
      ],
      "text/plain": [
       "                    id           created_at  \\\n",
       "0  1295375829304827904  2020-08-17 15:03:59   \n",
       "1  1294020145262874625  2020-08-13 21:16:59   \n",
       "2  1293251549653880832  2020-08-11 18:22:51   \n",
       "3  1292587503199887361  2020-08-09 22:24:10   \n",
       "4  1291514661339365378  2020-08-06 23:21:05   \n",
       "\n",
       "                                                                                                                                             text  \n",
       "0   A year ago, I had just spent my first night of about 45 in hospitals and acute care facilities after a devastatingâ¦ https://t.co/5nzFa0diqV  \n",
       "1  Week after immunotherapy started, so far worst side effect is fatigue for a couple of days with a slightly diminishâ¦ https://t.co/bqxca9iHUf  \n",
       "2  @germanrlopez @DavidAFrench My brother in law (a Brazilian) chaired a national Latino/a student organization recentâ¦ https://t.co/mEcdq4RPm0  \n",
       "3                                                                                                           @talowery2015 https://t.co/LU4HVJ0R0s  \n",
       "4   Encouraging blood work from yesterday. Cancer antigen is down 10 points well into normal range, liver markers highâ¦ https://t.co/MA39YrlXju  "
      ]
     },
     "execution_count": 292,
     "metadata": {},
     "output_type": "execute_result"
    }
   ],
   "source": [
    "df.head()"
   ]
  },
  {
   "cell_type": "code",
   "execution_count": 293,
   "metadata": {
    "colab": {
     "base_uri": "https://localhost:8080/",
     "height": 207
    },
    "colab_type": "code",
    "id": "2b3bbozSv0Z6",
    "outputId": "31c35050-98e9-4810-8b12-be67bec3e56e"
   },
   "outputs": [
    {
     "name": "stdout",
     "output_type": "stream",
     "text": [
      "Requirement already satisfied: emoji in /Users/sourabhsharma/anaconda3/lib/python3.7/site-packages (0.6.0)\r\n"
     ]
    }
   ],
   "source": [
    "!pip install emoji\n"
   ]
  },
  {
   "cell_type": "code",
   "execution_count": 294,
   "metadata": {
    "colab": {
     "base_uri": "https://localhost:8080/",
     "height": 51
    },
    "colab_type": "code",
    "id": "DkdL2ThCvZsb",
    "outputId": "ad5afbde-8d4f-4cf7-ca56-67507321b45f"
   },
   "outputs": [
    {
     "name": "stderr",
     "output_type": "stream",
     "text": [
      "[nltk_data] Downloading package punkt to\n",
      "[nltk_data]     /Users/sourabhsharma/nltk_data...\n",
      "[nltk_data]   Package punkt is already up-to-date!\n"
     ]
    }
   ],
   "source": [
    "from nltk.tokenize import word_tokenize\n",
    "from string import punctuation\n",
    "from nltk.corpus import stopwords\n",
    "\n",
    "import nltk \n",
    "import sys\n",
    "import os\n",
    "nltk.download('punkt')\n",
    "import csv\n",
    "import datetime\n",
    "from bs4 import BeautifulSoup\n",
    "import re\n",
    "import itertools\n",
    "import emoji\n",
    "def load_dict_smileys():\n",
    "   \n",
    "    return {\n",
    "        \":‑)\":\"smiley\",\n",
    "        \":-]\":\"smiley\",\n",
    "        \":-3\":\"smiley\",\n",
    "        \":->\":\"smiley\",\n",
    "        \"8-)\":\"smiley\",\n",
    "        \":-}\":\"smiley\",\n",
    "        \":)\":\"smiley\",\n",
    "        \":]\":\"smiley\",\n",
    "        \":3\":\"smiley\",\n",
    "        \":>\":\"smiley\",\n",
    "        \"8)\":\"smiley\",\n",
    "        \":}\":\"smiley\",\n",
    "        \":o)\":\"smiley\",\n",
    "        \":c)\":\"smiley\",\n",
    "        \":^)\":\"smiley\",\n",
    "        \"=]\":\"smiley\",\n",
    "        \"=)\":\"smiley\",\n",
    "        \":-))\":\"smiley\",\n",
    "        \":‑D\":\"smiley\",\n",
    "        \"8‑D\":\"smiley\",\n",
    "        \"x‑D\":\"smiley\",\n",
    "        \"X‑D\":\"smiley\",\n",
    "        \":D\":\"smiley\",\n",
    "        \"8D\":\"smiley\",\n",
    "        \"xD\":\"smiley\",\n",
    "        \"XD\":\"smiley\",\n",
    "        \":‑(\":\"sad\",\n",
    "        \":‑c\":\"sad\",\n",
    "        \":‑<\":\"sad\",\n",
    "        \":‑[\":\"sad\",\n",
    "        \":(\":\"sad\",\n",
    "        \":c\":\"sad\",\n",
    "        \":<\":\"sad\",\n",
    "        \":[\":\"sad\",\n",
    "        \":-||\":\"sad\",\n",
    "        \">:[\":\"sad\",\n",
    "        \":{\":\"sad\",\n",
    "        \":@\":\"sad\",\n",
    "        \">:(\":\"sad\",\n",
    "        \":'‑(\":\"sad\",\n",
    "        \":'(\":\"sad\",\n",
    "        \":‑P\":\"playful\",\n",
    "        \"X‑P\":\"playful\",\n",
    "        \"x‑p\":\"playful\",\n",
    "        \":‑p\":\"playful\",\n",
    "        \":‑Þ\":\"playful\",\n",
    "        \":‑þ\":\"playful\",\n",
    "        \":‑b\":\"playful\",\n",
    "        \":P\":\"playful\",\n",
    "        \"XP\":\"playful\",\n",
    "        \"xp\":\"playful\",\n",
    "        \":p\":\"playful\",\n",
    "        \":Þ\":\"playful\",\n",
    "        \":þ\":\"playful\",\n",
    "        \":b\":\"playful\",\n",
    "        \"<3\":\"love\"\n",
    "        }\n",
    "\n",
    "\n",
    "def load_dict_contractions():\n",
    "    \n",
    "    return {\n",
    "        \"ain't\":\"is not\",\n",
    "        \"amn't\":\"am not\",\n",
    "        \"aren't\":\"are not\",\n",
    "        \"can't\":\"cannot\",\n",
    "        \"'cause\":\"because\",\n",
    "        \"couldn't\":\"could not\",\n",
    "        \"couldn't've\":\"could not have\",\n",
    "        \"could've\":\"could have\",\n",
    "        \"daren't\":\"dare not\",\n",
    "        \"daresn't\":\"dare not\",\n",
    "        \"dasn't\":\"dare not\",\n",
    "        \"didn't\":\"did not\",\n",
    "        \"didn't\":\"did not\",\n",
    "        \"doesn't\":\"does not\",\n",
    "        \"don't\":\"do not\",\n",
    "        \"e'er\":\"ever\",\n",
    "        \"em\":\"them\",\n",
    "        \"everyone's\":\"everyone is\",\n",
    "        \"finna\":\"fixing to\",\n",
    "        \"gimme\":\"give me\",\n",
    "        \"gonna\":\"going to\",\n",
    "        \"gon't\":\"go not\",\n",
    "        \"gotta\":\"got to\",\n",
    "        \"hadn't\":\"had not\",\n",
    "        \"hasn't\":\"has not\",\n",
    "        \"haven't\":\"have not\",\n",
    "        \"he'd\":\"he would\",\n",
    "        \"he'll\":\"he will\",\n",
    "        \"he's\":\"he is\",\n",
    "        \"he've\":\"he have\",\n",
    "        \"how'd\":\"how would\",\n",
    "        \"how'll\":\"how will\",\n",
    "        \"how're\":\"how are\",\n",
    "        \"how's\":\"how is\",\n",
    "        \"I'd\":\"I would\",\n",
    "        \"I'll\":\"I will\",\n",
    "        \"I'm\":\"I am\",\n",
    "        \"i'm\":\"i am\",\n",
    "        \"I'm'a\":\"I am about to\",\n",
    "        \"I'm'o\":\"I am going to\",\n",
    "        \"isn't\":\"is not\",\n",
    "        \"it'd\":\"it would\",\n",
    "        \"it'll\":\"it will\",\n",
    "        \"it's\":\"it is\",\n",
    "        \"I've\":\"I have\",\n",
    "        \"i've\": \" I have\",\n",
    "        \"i'd\":\"i would\",\n",
    "        \"i'll\":\"i will\",\n",
    "        \"kinda\":\"kind of\",\n",
    "        \"let's\":\"let us\",\n",
    "        \"mayn't\":\"may not\",\n",
    "        \"may've\":\"may have\",\n",
    "        \"mightn't\":\"might not\",\n",
    "        \"might've\":\"might have\",\n",
    "        \"mustn't\":\"must not\",\n",
    "        \"mustn't've\":\"must not have\",\n",
    "        \"must've\":\"must have\",\n",
    "        \"needn't\":\"need not\",\n",
    "        \"ne'er\":\"never\",\n",
    "        \"o'\":\"of\",\n",
    "        \"o'er\":\"over\",\n",
    "        \"ol'\":\"old\",\n",
    "        \"oughtn't\":\"ought not\",\n",
    "        \"shalln't\":\"shall not\",\n",
    "        \"shan't\":\"shall not\",\n",
    "        \"she'd\":\"she would\",\n",
    "        \"she'll\":\"she will\",\n",
    "        \"she's\":\"she is\",\n",
    "        \"shouldn't\":\"should not\",\n",
    "        \"shouldn't've\":\"should not have\",\n",
    "        \"should've\":\"should have\",\n",
    "        \"somebody's\":\"somebody is\",\n",
    "        \"someone's\":\"someone is\",\n",
    "        \"something's\":\"something is\",\n",
    "        \"that'd\":\"that would\",\n",
    "        \"that'll\":\"that will\",\n",
    "        \"that're\":\"that are\",\n",
    "        \"that's\":\"that is\",\n",
    "        \"there'd\":\"there would\",\n",
    "        \"there'll\":\"there will\",\n",
    "        \"there're\":\"there are\",\n",
    "        \"there's\":\"there is\",\n",
    "        \"these're\":\"these are\",\n",
    "        \"they'd\":\"they would\",\n",
    "        \"they'll\":\"they will\",\n",
    "        \"they're\":\"they are\",\n",
    "        \"they've\":\"they have\",\n",
    "        \"this's\":\"this is\",\n",
    "        \"those're\":\"those are\",\n",
    "        \"'tis\":\"it is\",\n",
    "        \"'twas\":\"it was\",\n",
    "        \"wanna\":\"want to\",\n",
    "        \"wasn't\":\"was not\",\n",
    "        \"we'd\":\"we would\",\n",
    "        \"we'd've\":\"we would have\",\n",
    "        \"we'll\":\"we will\",\n",
    "        \"we're\":\"we are\",\n",
    "        \"weren't\":\"were not\",\n",
    "        \"we've\":\"we have\",\n",
    "        \"what'd\":\"what did\",\n",
    "        \"what'll\":\"what will\",\n",
    "        \"what're\":\"what are\",\n",
    "        \"what's\":\"what is\",\n",
    "        \"what've\":\"what have\",\n",
    "        \"when's\":\"when is\",\n",
    "        \"where'd\":\"where did\",\n",
    "        \"where're\":\"where are\",\n",
    "        \"where's\":\"where is\",\n",
    "        \"where've\":\"where have\",\n",
    "        \"which's\":\"which is\",\n",
    "        \"who'd\":\"who would\",\n",
    "        \"who'd've\":\"who would have\",\n",
    "        \"who'll\":\"who will\",\n",
    "        \"who're\":\"who are\",\n",
    "        \"who's\":\"who is\",\n",
    "        \"who've\":\"who have\",\n",
    "        \"why'd\":\"why did\",\n",
    "        \"why're\":\"why are\",\n",
    "        \"why's\":\"why is\",\n",
    "        \"won't\":\"will not\",\n",
    "        \"wouldn't\":\"would not\",\n",
    "        \"would've\":\"would have\",\n",
    "        \"y'all\":\"you all\",\n",
    "        \"you'd\":\"you would\",\n",
    "        \"you'll\":\"you will\",\n",
    "        \"you're\":\"you are\",\n",
    "        \"you've\":\"you have\",\n",
    "        \"Whatcha\":\"What are you\",\n",
    "        \"luv\":\"love\",\n",
    "        \"sux\":\"sucks\",\n",
    "        \"lol\":\"laugh\"\n",
    "        \n",
    "        \n",
    "        }\n",
    "\n",
    "\n",
    "def strip_accents(text):\n",
    "    if 'ø' in text or  'Ø' in text:\n",
    "        #Do nothing when finding ø \n",
    "        return text   \n",
    "    text = text.encode('ascii', 'ignore')\n",
    "    text = text.decode(\"utf-8\")\n",
    "    return str(text)\n",
    "\n",
    "\n",
    "\n",
    "def clean_text(tweet):\n",
    "         #Special case not handled previously.\n",
    "        # tweet=tweet.apply(ast.literal_eval).str.decode(\"utf-8\")\n",
    "        # print(tweet)\n",
    "        tweet = tweet.replace('\\xe2\\x80\\xa6','').replace('\\xe2\\x80\\x99','')\n",
    "        #Escaping HTML characters\n",
    "        tweet = BeautifulSoup(tweet).get_text()\n",
    "        #Strip accents\n",
    "        tweet= strip_accents(tweet)\n",
    "        #Special case not handled previously.\n",
    "        # tweet = tweet.replace('\\xe2\\x80\\xa6','').replace('\\xe2\\x80\\x99','')\n",
    "        #Deal with smileys\n",
    "        #source: https://en.wikipedia.org/wiki/List_of_emoticons\n",
    "        SMILEY = load_dict_smileys()  \n",
    "        words = tweet.split()\n",
    "        reformed = [SMILEY[word] if word in SMILEY else word for word in words]\n",
    "        tweet = \" \".join(reformed)\n",
    "        #Deal with emojis\n",
    "        tweet = emoji.demojize(tweet)\n",
    "        #Removal of hastags/account\n",
    "        tweet = ' '.join(re.sub(\"(@[A-Za-z0-9_]+)|(#[A-Za-z0-9_]+)\", \" \", tweet).split())\n",
    "        #Removal of address\n",
    "        tweet = ' '.join(re.sub(\"(\\w+:\\/\\/\\S+)\", \" \", tweet).split())\n",
    "        \n",
    "        #Lower case\n",
    "        tweet = tweet.lower()\n",
    "        \n",
    "        tweet = tweet.replace(\":\",\" \")\n",
    "        tweet = ' '.join(tweet.split())\n",
    "        #CONTRACTIONS source: https://en.wikipedia.org/wiki/Contraction_%28grammar%29\n",
    "        CONTRACTIONS = load_dict_contractions()\n",
    "        tweet = tweet.replace(\"’\",\"'\")\n",
    "        words = tweet.split()\n",
    "        reformed = [CONTRACTIONS[word] if word in CONTRACTIONS else word for word in words]\n",
    "        tweet = \" \".join(reformed)\n",
    "        \n",
    "        #Removal of Punctuation\n",
    "        tweet = ' '.join(re.sub(\"[\\.\\,\\!\\?\\:\\;\\-\\=]\", \" \", tweet).split())\n",
    "#         removal of 'rt' from tweet\n",
    "        tweet = ' '.join(re.sub('rt @[\\w_]+: ','', tweet).split())  \n",
    "        tweet = ' '.join(re.sub('rt at_user[\\w_]+: ','', tweet).split())        \n",
    "        #specific cleaning\n",
    "        tweet = tweet.replace(\" 's\",\"\").replace('*','').replace(':',\"\").replace('&','').replace(\"'s\",\"\").replace(\"'\",\"\").replace('\"','').replace(\">\",\"\").replace(\"<\",\"\").replace(\"$\",\"\")\n",
    "        #removal of digits\n",
    "        \n",
    "        tweet = ' '.join(re.sub('\\d+', '', tweet).split())\n",
    "        \n",
    "        #removal of wildcard characters\n",
    "        tweet=\" \".join(re.sub(\"\\W\",\" \",tweet).split())\n",
    "        \n",
    "        #removing single characters e.g. jack's (if s left from apostrophe)\n",
    "        tweet=\" \".join(re.sub(r\"\\s+[a-zA-Z]\\s+\", \" \",tweet).split()) \n",
    "       \n",
    "        #Removal of text in brackets (\"text\")\n",
    "        tweet = \" \".join(re.sub('\\([^)]*\\)', \"\",tweet).split())\n",
    "        \n",
    "        #Remaoval of sqaure brackets from text \"[]\"\n",
    "        tweet = tweet.replace('[','').replace(']','')\n",
    "        \n",
    "#         #removal of &\n",
    "#         tweet=\" \".join(re.sub(r'[.*?]',\"\",tweet).split()\n",
    "        # Standardizing words\n",
    "        tweet = ''.join(''.join(s)[:2] for _, s in itertools.groupby(tweet))\n",
    "        #removal of stop words\n",
    "\n",
    "        tweet = \" \".join(re.sub('bat_user', \"\",tweet).split())\n",
    "        tweet = \" \".join(re.sub('at_user', \"\",tweet).split())\n",
    "        tweet=\" \".join(re.sub(r'b(\"\\'\")', \"\",tweet).split())\n",
    "        \n",
    "\n",
    "        \n",
    "                \n",
    "       \n",
    "        # DO NOT REMOVE STOP WORDS FOR SENTIMENT ANALYSIS - OR AT LEAST NOT NEGATIVE ONES\n",
    "        return tweet\n",
    "      \n"
   ]
  },
  {
   "cell_type": "code",
   "execution_count": 295,
   "metadata": {
    "colab": {
     "base_uri": "https://localhost:8080/",
     "height": 328
    },
    "colab_type": "code",
    "id": "xDlFlXOQvj2D",
    "outputId": "969c2586-b371-4465-a75b-9b73e82a9031"
   },
   "outputs": [
    {
     "data": {
      "text/html": [
       "<div>\n",
       "<style scoped>\n",
       "    .dataframe tbody tr th:only-of-type {\n",
       "        vertical-align: middle;\n",
       "    }\n",
       "\n",
       "    .dataframe tbody tr th {\n",
       "        vertical-align: top;\n",
       "    }\n",
       "\n",
       "    .dataframe thead th {\n",
       "        text-align: right;\n",
       "    }\n",
       "</style>\n",
       "<table border=\"1\" class=\"dataframe\">\n",
       "  <thead>\n",
       "    <tr style=\"text-align: right;\">\n",
       "      <th></th>\n",
       "      <th>id</th>\n",
       "      <th>created_at</th>\n",
       "      <th>text</th>\n",
       "    </tr>\n",
       "  </thead>\n",
       "  <tbody>\n",
       "    <tr>\n",
       "      <th>0</th>\n",
       "      <td>1295375829304827904</td>\n",
       "      <td>2020-08-17 15:03:59</td>\n",
       "      <td>A year ago, I had just spent my first night of about 45 in hospitals and acute care facilities after a devastatingâ¦ https://t.co/5nzFa0diqV</td>\n",
       "    </tr>\n",
       "    <tr>\n",
       "      <th>1</th>\n",
       "      <td>1294020145262874625</td>\n",
       "      <td>2020-08-13 21:16:59</td>\n",
       "      <td>Week after immunotherapy started, so far worst side effect is fatigue for a couple of days with a slightly diminishâ¦ https://t.co/bqxca9iHUf</td>\n",
       "    </tr>\n",
       "    <tr>\n",
       "      <th>2</th>\n",
       "      <td>1293251549653880832</td>\n",
       "      <td>2020-08-11 18:22:51</td>\n",
       "      <td>@germanrlopez @DavidAFrench My brother in law (a Brazilian) chaired a national Latino/a student organization recentâ¦ https://t.co/mEcdq4RPm0</td>\n",
       "    </tr>\n",
       "    <tr>\n",
       "      <th>3</th>\n",
       "      <td>1292587503199887361</td>\n",
       "      <td>2020-08-09 22:24:10</td>\n",
       "      <td>@talowery2015 https://t.co/LU4HVJ0R0s</td>\n",
       "    </tr>\n",
       "    <tr>\n",
       "      <th>4</th>\n",
       "      <td>1291514661339365378</td>\n",
       "      <td>2020-08-06 23:21:05</td>\n",
       "      <td>Encouraging blood work from yesterday. Cancer antigen is down 10 points well into normal range, liver markers highâ¦ https://t.co/MA39YrlXju</td>\n",
       "    </tr>\n",
       "    <tr>\n",
       "      <th>5</th>\n",
       "      <td>1291116645436596227</td>\n",
       "      <td>2020-08-05 20:59:30</td>\n",
       "      <td>All done!  ðªð¼ https://t.co/ium1yBxIey</td>\n",
       "    </tr>\n",
       "    <tr>\n",
       "      <th>6</th>\n",
       "      <td>1291109708162531329</td>\n",
       "      <td>2020-08-05 20:31:56</td>\n",
       "      <td>It begins! https://t.co/dzht7RAngu</td>\n",
       "    </tr>\n",
       "    <tr>\n",
       "      <th>7</th>\n",
       "      <td>1290998941128032257</td>\n",
       "      <td>2020-08-05 13:11:47</td>\n",
       "      <td>Just as an FYI I  posted with green symbols because thatâs the bile duct cancer color (like pink is for breast cancâ¦ https://t.co/sbAASPHwwj</td>\n",
       "    </tr>\n",
       "    <tr>\n",
       "      <th>8</th>\n",
       "      <td>1290998098081308673</td>\n",
       "      <td>2020-08-05 13:08:26</td>\n",
       "      <td>ð¢My immunotherapy treatment starts today at 3pm.  Pray it goes well, lack of side effects, and that the medicine (Kâ¦ https://t.co/zff7lAKY7y</td>\n",
       "    </tr>\n",
       "  </tbody>\n",
       "</table>\n",
       "</div>"
      ],
      "text/plain": [
       "                    id           created_at  \\\n",
       "0  1295375829304827904  2020-08-17 15:03:59   \n",
       "1  1294020145262874625  2020-08-13 21:16:59   \n",
       "2  1293251549653880832  2020-08-11 18:22:51   \n",
       "3  1292587503199887361  2020-08-09 22:24:10   \n",
       "4  1291514661339365378  2020-08-06 23:21:05   \n",
       "5  1291116645436596227  2020-08-05 20:59:30   \n",
       "6  1291109708162531329  2020-08-05 20:31:56   \n",
       "7  1290998941128032257  2020-08-05 13:11:47   \n",
       "8  1290998098081308673  2020-08-05 13:08:26   \n",
       "\n",
       "                                                                                                                                                text  \n",
       "0      A year ago, I had just spent my first night of about 45 in hospitals and acute care facilities after a devastatingâ¦ https://t.co/5nzFa0diqV  \n",
       "1     Week after immunotherapy started, so far worst side effect is fatigue for a couple of days with a slightly diminishâ¦ https://t.co/bqxca9iHUf  \n",
       "2     @germanrlopez @DavidAFrench My brother in law (a Brazilian) chaired a national Latino/a student organization recentâ¦ https://t.co/mEcdq4RPm0  \n",
       "3                                                                                                              @talowery2015 https://t.co/LU4HVJ0R0s  \n",
       "4      Encouraging blood work from yesterday. Cancer antigen is down 10 points well into normal range, liver markers highâ¦ https://t.co/MA39YrlXju  \n",
       "5                                                                                                        All done!  ðªð¼ https://t.co/ium1yBxIey  \n",
       "6                                                                                                                 It begins! https://t.co/dzht7RAngu  \n",
       "7   Just as an FYI I  posted with green symbols because thatâs the bile duct cancer color (like pink is for breast cancâ¦ https://t.co/sbAASPHwwj  \n",
       "8  ð¢My immunotherapy treatment starts today at 3pm.  Pray it goes well, lack of side effects, and that the medicine (Kâ¦ https://t.co/zff7lAKY7y  "
      ]
     },
     "execution_count": 295,
     "metadata": {},
     "output_type": "execute_result"
    }
   ],
   "source": [
    "df.head(9)"
   ]
  },
  {
   "cell_type": "markdown",
   "metadata": {
    "colab_type": "text",
    "id": "qLAae1gIGgRj"
   },
   "source": [
    "type(df.text)"
   ]
  },
  {
   "cell_type": "code",
   "execution_count": 296,
   "metadata": {
    "colab": {},
    "colab_type": "code",
    "id": "Y3bWwPaVHBXi"
   },
   "outputs": [],
   "source": [
    "# df['Text'] = df['text'].astype('str') "
   ]
  },
  {
   "cell_type": "code",
   "execution_count": 297,
   "metadata": {
    "colab": {},
    "colab_type": "code",
    "id": "JnRBcKSVwEUi"
   },
   "outputs": [],
   "source": [
    "df['url_cleaned'] = [re.sub(r\"http\\S+\", \"\", tweet) for tweet in df[\"text\"]] \n",
    "df['clean_text'] = [clean_text(tweet) for tweet in df[\"url_cleaned\"]] \n",
    "\n"
   ]
  },
  {
   "cell_type": "code",
   "execution_count": 298,
   "metadata": {
    "colab": {},
    "colab_type": "code",
    "id": "eGnBh4Qjd_hp"
   },
   "outputs": [],
   "source": [
    "def clanrt(tweet):\n",
    "  tweet = ' '.join(re.sub('rt ','', tweet).split())\n",
    "  return tweet\n"
   ]
  },
  {
   "cell_type": "code",
   "execution_count": 299,
   "metadata": {
    "colab": {},
    "colab_type": "code",
    "id": "Yhc70jbaeh6_"
   },
   "outputs": [],
   "source": [
    "df['clean_text'] = [clanrt(tweet) for tweet in df[\"clean_text\"]] \n"
   ]
  },
  {
   "cell_type": "code",
   "execution_count": 300,
   "metadata": {
    "colab": {
     "base_uri": "https://localhost:8080/",
     "height": 204
    },
    "colab_type": "code",
    "id": "eEZ3JvF9wQnt",
    "outputId": "c0eed6e0-ad13-4da4-c4c9-47ce91e2a1e9"
   },
   "outputs": [
    {
     "data": {
      "text/plain": [
       "0        a year ago had just spent my first night of about in hospitals and acute care facilities after devastating\n",
       "1    week after immunotherapy started so far worst side effect is fatigue for couple of days with slightly diminish\n",
       "2                                   my brother in law brazilian chaired national latino student organization recent\n",
       "3                                                                                                                  \n",
       "4     encouraging blood work from yesterday cancer antigen is down points well into normal range liver markers high\n",
       "5                                                                                                          all done\n",
       "6                                                                                                         it begins\n",
       "7    just as an fyi posted with green symbols because thats the bile duct cancer color like pink is for breast canc\n",
       "8      my immunotherapy treatment starts today at pm pray it goes well lack of side effects and that the medicine k\n",
       "9                                                                                                                  \n",
       "Name: clean_text, dtype: object"
      ]
     },
     "execution_count": 300,
     "metadata": {},
     "output_type": "execute_result"
    }
   ],
   "source": [
    "pd.set_option('display.max_colwidth', 5000)\n",
    "df['clean_text'][:10]"
   ]
  },
  {
   "cell_type": "code",
   "execution_count": 301,
   "metadata": {
    "colab": {},
    "colab_type": "code",
    "id": "oMNRAgAbHl2e"
   },
   "outputs": [],
   "source": [
    "df = df.dropna()"
   ]
  },
  {
   "cell_type": "code",
   "execution_count": 302,
   "metadata": {
    "colab": {
     "base_uri": "https://localhost:8080/",
     "height": 34
    },
    "colab_type": "code",
    "id": "_oAyNjulH4s2",
    "outputId": "126e4db2-49e2-4605-9fca-75ade1f934e6"
   },
   "outputs": [
    {
     "data": {
      "text/plain": [
       "5890"
      ]
     },
     "execution_count": 302,
     "metadata": {},
     "output_type": "execute_result"
    }
   ],
   "source": [
    "df.size"
   ]
  },
  {
   "cell_type": "code",
   "execution_count": 303,
   "metadata": {
    "colab": {
     "base_uri": "https://localhost:8080/",
     "height": 102
    },
    "colab_type": "code",
    "id": "d_9v0G-hwSoK",
    "outputId": "dba019fa-4629-4a58-9d26-785f3f6b6de1"
   },
   "outputs": [
    {
     "name": "stderr",
     "output_type": "stream",
     "text": [
      "[nltk_data] Downloading package wordnet to\n",
      "[nltk_data]     /Users/sourabhsharma/nltk_data...\n",
      "[nltk_data]   Package wordnet is already up-to-date!\n",
      "[nltk_data] Downloading package averaged_perceptron_tagger to\n",
      "[nltk_data]     /Users/sourabhsharma/nltk_data...\n",
      "[nltk_data]   Package averaged_perceptron_tagger is already up-to-\n",
      "[nltk_data]       date!\n"
     ]
    }
   ],
   "source": [
    "import nltk\n",
    "nltk.download('wordnet')\n",
    "nltk.download('averaged_perceptron_tagger')\n",
    "\n",
    "from nltk.stem.wordnet import WordNetLemmatizer\n",
    "lmtzr = WordNetLemmatizer()\n",
    "\n",
    "#lmtzr.lemmatize('octopi')\n",
    "\n",
    "def lemmatize_with_postag(sentence):\n",
    "    sent = TextBlob(sentence)\n",
    "    tag_dict = {\"J\": 'a', \n",
    "                \"N\": 'n', \n",
    "                \"V\": 'v', \n",
    "                \"R\": 'r'}\n",
    "    words_and_tags = [(w, tag_dict.get(pos[0], 'n')) for w, pos in sent.tags]    \n",
    "    lemmatized_list = [wd.lemmatize(tag) for wd, tag in words_and_tags]\n",
    "    return \" \".join(lemmatized_list)\n"
   ]
  },
  {
   "cell_type": "code",
   "execution_count": 304,
   "metadata": {
    "colab": {},
    "colab_type": "code",
    "id": "XcMm7DBHwcIW"
   },
   "outputs": [],
   "source": [
    "df['lemma_text'] = [lemmatize_with_postag(tweet) for tweet in df[\"clean_text\"]]"
   ]
  },
  {
   "cell_type": "code",
   "execution_count": 305,
   "metadata": {
    "colab": {
     "base_uri": "https://localhost:8080/",
     "height": 221
    },
    "colab_type": "code",
    "id": "Z6Yuu1OUaa4S",
    "outputId": "fc9c0877-e2c4-452c-8132-9bef5f8705fd"
   },
   "outputs": [
    {
     "name": "stdout",
     "output_type": "stream",
     "text": [
      "0          a year ago have just spend my first night of about in hospital and acute care facility after devastate\n",
      "1       week after immunotherapy start so far bad side effect be fatigue for couple of day with slightly diminish\n",
      "2                                   my brother in law brazilian chair national latino student organization recent\n",
      "3                                                                                                                \n",
      "4       encourage blood work from yesterday cancer antigen be down point well into normal range liver marker high\n",
      "                                                          ...                                                    \n",
      "1173                                                                use my high school essay for my english class\n",
      "1174                                                              im give you fist bump instead of dap for reason\n",
      "1175                                                                                 yo my gg im chill how you do\n",
      "1176                                                                                    wasup nandi miss you love\n",
      "1177                                                                                   im do laundry at this time\n",
      "Name: lemma_text, Length: 1178, dtype: object\n"
     ]
    }
   ],
   "source": [
    "print(df['lemma_text'])"
   ]
  },
  {
   "cell_type": "code",
   "execution_count": 306,
   "metadata": {
    "colab": {},
    "colab_type": "code",
    "id": "pljDRCQd3euc"
   },
   "outputs": [],
   "source": [
    "def rem_stpw(tweet):\n",
    "    #excluding words not in list not_rm\n",
    "   \n",
    "    not_rm = ['no','not','nor','like','very','again','what','above','up','below','despite','but','unlikely']\n",
    "    new_stpwords = [word for word in stopwords.words('english') if word not in not_rm ]\n",
    "    #print(new_stpwords)\n",
    "    tweet = tweet.split()\n",
    "    str2 = [word for word in tweet if word not in new_stpwords]\n",
    "    \n",
    "    a = ' '.join(str2) #word2vec require's o/p as list of words from sentence\n",
    "    return a"
   ]
  },
  {
   "cell_type": "code",
   "execution_count": 307,
   "metadata": {
    "colab": {
     "base_uri": "https://localhost:8080/",
     "height": 51
    },
    "colab_type": "code",
    "id": "vMmj_5Wx3f4O",
    "outputId": "a0bdbf2c-6eb8-48a7-cc2a-2327265c2567"
   },
   "outputs": [
    {
     "name": "stderr",
     "output_type": "stream",
     "text": [
      "[nltk_data] Downloading package stopwords to\n",
      "[nltk_data]     /Users/sourabhsharma/nltk_data...\n",
      "[nltk_data]   Package stopwords is already up-to-date!\n"
     ]
    }
   ],
   "source": [
    "nltk.download('stopwords')\n",
    "df['after_stpw']=[rem_stpw(sent) for sent in df['lemma_text']]"
   ]
  },
  {
   "cell_type": "code",
   "execution_count": 308,
   "metadata": {
    "colab": {
     "base_uri": "https://localhost:8080/",
     "height": 629
    },
    "colab_type": "code",
    "id": "tYN1ryv-xuCt",
    "outputId": "f0cbef11-49c0-49fd-9451-65be9748fa3f"
   },
   "outputs": [
    {
     "data": {
      "text/html": [
       "<div>\n",
       "<style scoped>\n",
       "    .dataframe tbody tr th:only-of-type {\n",
       "        vertical-align: middle;\n",
       "    }\n",
       "\n",
       "    .dataframe tbody tr th {\n",
       "        vertical-align: top;\n",
       "    }\n",
       "\n",
       "    .dataframe thead th {\n",
       "        text-align: right;\n",
       "    }\n",
       "</style>\n",
       "<table border=\"1\" class=\"dataframe\">\n",
       "  <thead>\n",
       "    <tr style=\"text-align: right;\">\n",
       "      <th></th>\n",
       "      <th>id</th>\n",
       "      <th>created_at</th>\n",
       "      <th>text</th>\n",
       "      <th>url_cleaned</th>\n",
       "      <th>clean_text</th>\n",
       "      <th>lemma_text</th>\n",
       "      <th>after_stpw</th>\n",
       "    </tr>\n",
       "  </thead>\n",
       "  <tbody>\n",
       "    <tr>\n",
       "      <th>0</th>\n",
       "      <td>1295375829304827904</td>\n",
       "      <td>2020-08-17 15:03:59</td>\n",
       "      <td>A year ago, I had just spent my first night of about 45 in hospitals and acute care facilities after a devastatingâ¦ https://t.co/5nzFa0diqV</td>\n",
       "      <td>A year ago, I had just spent my first night of about 45 in hospitals and acute care facilities after a devastatingâ¦</td>\n",
       "      <td>a year ago had just spent my first night of about in hospitals and acute care facilities after devastating</td>\n",
       "      <td>a year ago have just spend my first night of about in hospital and acute care facility after devastate</td>\n",
       "      <td>year ago spend first night hospital acute care facility devastate</td>\n",
       "    </tr>\n",
       "    <tr>\n",
       "      <th>1</th>\n",
       "      <td>1294020145262874625</td>\n",
       "      <td>2020-08-13 21:16:59</td>\n",
       "      <td>Week after immunotherapy started, so far worst side effect is fatigue for a couple of days with a slightly diminishâ¦ https://t.co/bqxca9iHUf</td>\n",
       "      <td>Week after immunotherapy started, so far worst side effect is fatigue for a couple of days with a slightly diminishâ¦</td>\n",
       "      <td>week after immunotherapy started so far worst side effect is fatigue for couple of days with slightly diminish</td>\n",
       "      <td>week after immunotherapy start so far bad side effect be fatigue for couple of day with slightly diminish</td>\n",
       "      <td>week immunotherapy start far bad side effect fatigue couple day slightly diminish</td>\n",
       "    </tr>\n",
       "    <tr>\n",
       "      <th>2</th>\n",
       "      <td>1293251549653880832</td>\n",
       "      <td>2020-08-11 18:22:51</td>\n",
       "      <td>@germanrlopez @DavidAFrench My brother in law (a Brazilian) chaired a national Latino/a student organization recentâ¦ https://t.co/mEcdq4RPm0</td>\n",
       "      <td>@germanrlopez @DavidAFrench My brother in law (a Brazilian) chaired a national Latino/a student organization recentâ¦</td>\n",
       "      <td>my brother in law brazilian chaired national latino student organization recent</td>\n",
       "      <td>my brother in law brazilian chair national latino student organization recent</td>\n",
       "      <td>brother law brazilian chair national latino student organization recent</td>\n",
       "    </tr>\n",
       "    <tr>\n",
       "      <th>3</th>\n",
       "      <td>1292587503199887361</td>\n",
       "      <td>2020-08-09 22:24:10</td>\n",
       "      <td>@talowery2015 https://t.co/LU4HVJ0R0s</td>\n",
       "      <td>@talowery2015</td>\n",
       "      <td></td>\n",
       "      <td></td>\n",
       "      <td></td>\n",
       "    </tr>\n",
       "    <tr>\n",
       "      <th>4</th>\n",
       "      <td>1291514661339365378</td>\n",
       "      <td>2020-08-06 23:21:05</td>\n",
       "      <td>Encouraging blood work from yesterday. Cancer antigen is down 10 points well into normal range, liver markers highâ¦ https://t.co/MA39YrlXju</td>\n",
       "      <td>Encouraging blood work from yesterday. Cancer antigen is down 10 points well into normal range, liver markers highâ¦</td>\n",
       "      <td>encouraging blood work from yesterday cancer antigen is down points well into normal range liver markers high</td>\n",
       "      <td>encourage blood work from yesterday cancer antigen be down point well into normal range liver marker high</td>\n",
       "      <td>encourage blood work yesterday cancer antigen point well normal range liver marker high</td>\n",
       "    </tr>\n",
       "  </tbody>\n",
       "</table>\n",
       "</div>"
      ],
      "text/plain": [
       "                    id           created_at  \\\n",
       "0  1295375829304827904  2020-08-17 15:03:59   \n",
       "1  1294020145262874625  2020-08-13 21:16:59   \n",
       "2  1293251549653880832  2020-08-11 18:22:51   \n",
       "3  1292587503199887361  2020-08-09 22:24:10   \n",
       "4  1291514661339365378  2020-08-06 23:21:05   \n",
       "\n",
       "                                                                                                                                             text  \\\n",
       "0   A year ago, I had just spent my first night of about 45 in hospitals and acute care facilities after a devastatingâ¦ https://t.co/5nzFa0diqV   \n",
       "1  Week after immunotherapy started, so far worst side effect is fatigue for a couple of days with a slightly diminishâ¦ https://t.co/bqxca9iHUf   \n",
       "2  @germanrlopez @DavidAFrench My brother in law (a Brazilian) chaired a national Latino/a student organization recentâ¦ https://t.co/mEcdq4RPm0   \n",
       "3                                                                                                           @talowery2015 https://t.co/LU4HVJ0R0s   \n",
       "4   Encouraging blood work from yesterday. Cancer antigen is down 10 points well into normal range, liver markers highâ¦ https://t.co/MA39YrlXju   \n",
       "\n",
       "                                                                                                               url_cleaned  \\\n",
       "0   A year ago, I had just spent my first night of about 45 in hospitals and acute care facilities after a devastatingâ¦    \n",
       "1  Week after immunotherapy started, so far worst side effect is fatigue for a couple of days with a slightly diminishâ¦    \n",
       "2  @germanrlopez @DavidAFrench My brother in law (a Brazilian) chaired a national Latino/a student organization recentâ¦    \n",
       "3                                                                                                           @talowery2015    \n",
       "4   Encouraging blood work from yesterday. Cancer antigen is down 10 points well into normal range, liver markers highâ¦    \n",
       "\n",
       "                                                                                                       clean_text  \\\n",
       "0      a year ago had just spent my first night of about in hospitals and acute care facilities after devastating   \n",
       "1  week after immunotherapy started so far worst side effect is fatigue for couple of days with slightly diminish   \n",
       "2                                 my brother in law brazilian chaired national latino student organization recent   \n",
       "3                                                                                                                   \n",
       "4   encouraging blood work from yesterday cancer antigen is down points well into normal range liver markers high   \n",
       "\n",
       "                                                                                                  lemma_text  \\\n",
       "0     a year ago have just spend my first night of about in hospital and acute care facility after devastate   \n",
       "1  week after immunotherapy start so far bad side effect be fatigue for couple of day with slightly diminish   \n",
       "2                              my brother in law brazilian chair national latino student organization recent   \n",
       "3                                                                                                              \n",
       "4  encourage blood work from yesterday cancer antigen be down point well into normal range liver marker high   \n",
       "\n",
       "                                                                                after_stpw  \n",
       "0                        year ago spend first night hospital acute care facility devastate  \n",
       "1        week immunotherapy start far bad side effect fatigue couple day slightly diminish  \n",
       "2                  brother law brazilian chair national latino student organization recent  \n",
       "3                                                                                           \n",
       "4  encourage blood work yesterday cancer antigen point well normal range liver marker high  "
      ]
     },
     "execution_count": 308,
     "metadata": {},
     "output_type": "execute_result"
    }
   ],
   "source": [
    "df.head(5)"
   ]
  },
  {
   "cell_type": "code",
   "execution_count": 309,
   "metadata": {
    "colab": {},
    "colab_type": "code",
    "id": "JDPKvcq3f50H"
   },
   "outputs": [],
   "source": [
    "def rem_stpw(sent):\n",
    "    stopwords = ['xa','xe','xf','xd ','url','xb','url','bat_user','xbe','x','xaf','xaa','xc','the','xt','xs',\n",
    "                 'for','and','a','this','I','just','it','are','but','xae','xbf','xre','xve','xd','xm','xxzz']\n",
    "    querywords = sent.split()\n",
    "    resultwords  = [word for word in querywords if word.lower() not in stopwords]\n",
    "    result = ' '.join(resultwords)\n",
    "    return result"
   ]
  },
  {
   "cell_type": "code",
   "execution_count": 310,
   "metadata": {
    "colab": {},
    "colab_type": "code",
    "id": "kDTUkIF2gMxi"
   },
   "outputs": [],
   "source": [
    "df['after_stpw']=[rem_stpw(sent) for sent in df['after_stpw'] ]"
   ]
  },
  {
   "cell_type": "code",
   "execution_count": 311,
   "metadata": {
    "colab": {
     "base_uri": "https://localhost:8080/",
     "height": 1000
    },
    "colab_type": "code",
    "id": "UcFpFRGzhkRA",
    "outputId": "280c8195-5169-4d90-8624-ee0efbbd8a01"
   },
   "outputs": [
    {
     "data": {
      "text/html": [
       "<div>\n",
       "<style scoped>\n",
       "    .dataframe tbody tr th:only-of-type {\n",
       "        vertical-align: middle;\n",
       "    }\n",
       "\n",
       "    .dataframe tbody tr th {\n",
       "        vertical-align: top;\n",
       "    }\n",
       "\n",
       "    .dataframe thead th {\n",
       "        text-align: right;\n",
       "    }\n",
       "</style>\n",
       "<table border=\"1\" class=\"dataframe\">\n",
       "  <thead>\n",
       "    <tr style=\"text-align: right;\">\n",
       "      <th></th>\n",
       "      <th>id</th>\n",
       "      <th>created_at</th>\n",
       "      <th>text</th>\n",
       "      <th>url_cleaned</th>\n",
       "      <th>clean_text</th>\n",
       "      <th>lemma_text</th>\n",
       "      <th>after_stpw</th>\n",
       "    </tr>\n",
       "  </thead>\n",
       "  <tbody>\n",
       "    <tr>\n",
       "      <th>0</th>\n",
       "      <td>1295375829304827904</td>\n",
       "      <td>2020-08-17 15:03:59</td>\n",
       "      <td>A year ago, I had just spent my first night of about 45 in hospitals and acute care facilities after a devastatingâ¦ https://t.co/5nzFa0diqV</td>\n",
       "      <td>A year ago, I had just spent my first night of about 45 in hospitals and acute care facilities after a devastatingâ¦</td>\n",
       "      <td>a year ago had just spent my first night of about in hospitals and acute care facilities after devastating</td>\n",
       "      <td>a year ago have just spend my first night of about in hospital and acute care facility after devastate</td>\n",
       "      <td>year ago spend first night hospital acute care facility devastate</td>\n",
       "    </tr>\n",
       "    <tr>\n",
       "      <th>1</th>\n",
       "      <td>1294020145262874625</td>\n",
       "      <td>2020-08-13 21:16:59</td>\n",
       "      <td>Week after immunotherapy started, so far worst side effect is fatigue for a couple of days with a slightly diminishâ¦ https://t.co/bqxca9iHUf</td>\n",
       "      <td>Week after immunotherapy started, so far worst side effect is fatigue for a couple of days with a slightly diminishâ¦</td>\n",
       "      <td>week after immunotherapy started so far worst side effect is fatigue for couple of days with slightly diminish</td>\n",
       "      <td>week after immunotherapy start so far bad side effect be fatigue for couple of day with slightly diminish</td>\n",
       "      <td>week immunotherapy start far bad side effect fatigue couple day slightly diminish</td>\n",
       "    </tr>\n",
       "    <tr>\n",
       "      <th>2</th>\n",
       "      <td>1293251549653880832</td>\n",
       "      <td>2020-08-11 18:22:51</td>\n",
       "      <td>@germanrlopez @DavidAFrench My brother in law (a Brazilian) chaired a national Latino/a student organization recentâ¦ https://t.co/mEcdq4RPm0</td>\n",
       "      <td>@germanrlopez @DavidAFrench My brother in law (a Brazilian) chaired a national Latino/a student organization recentâ¦</td>\n",
       "      <td>my brother in law brazilian chaired national latino student organization recent</td>\n",
       "      <td>my brother in law brazilian chair national latino student organization recent</td>\n",
       "      <td>brother law brazilian chair national latino student organization recent</td>\n",
       "    </tr>\n",
       "    <tr>\n",
       "      <th>3</th>\n",
       "      <td>1292587503199887361</td>\n",
       "      <td>2020-08-09 22:24:10</td>\n",
       "      <td>@talowery2015 https://t.co/LU4HVJ0R0s</td>\n",
       "      <td>@talowery2015</td>\n",
       "      <td></td>\n",
       "      <td></td>\n",
       "      <td></td>\n",
       "    </tr>\n",
       "    <tr>\n",
       "      <th>4</th>\n",
       "      <td>1291514661339365378</td>\n",
       "      <td>2020-08-06 23:21:05</td>\n",
       "      <td>Encouraging blood work from yesterday. Cancer antigen is down 10 points well into normal range, liver markers highâ¦ https://t.co/MA39YrlXju</td>\n",
       "      <td>Encouraging blood work from yesterday. Cancer antigen is down 10 points well into normal range, liver markers highâ¦</td>\n",
       "      <td>encouraging blood work from yesterday cancer antigen is down points well into normal range liver markers high</td>\n",
       "      <td>encourage blood work from yesterday cancer antigen be down point well into normal range liver marker high</td>\n",
       "      <td>encourage blood work yesterday cancer antigen point well normal range liver marker high</td>\n",
       "    </tr>\n",
       "    <tr>\n",
       "      <th>...</th>\n",
       "      <td>...</td>\n",
       "      <td>...</td>\n",
       "      <td>...</td>\n",
       "      <td>...</td>\n",
       "      <td>...</td>\n",
       "      <td>...</td>\n",
       "      <td>...</td>\n",
       "    </tr>\n",
       "    <tr>\n",
       "      <th>95</th>\n",
       "      <td>1225570536786481156</td>\n",
       "      <td>2020-02-07 00:02:40</td>\n",
       "      <td>And this was done during todayâs rare (for Athens at least) tornado warning. https://t.co/fQdmW9k5Ju</td>\n",
       "      <td>And this was done during todayâs rare (for Athens at least) tornado warning.</td>\n",
       "      <td>and this was done during todays rare for athens at least tornado warning</td>\n",
       "      <td>and this be do during today rare for athens at least tornado warning</td>\n",
       "      <td>today rare athens least tornado warning</td>\n",
       "    </tr>\n",
       "    <tr>\n",
       "      <th>96</th>\n",
       "      <td>1225461033877344256</td>\n",
       "      <td>2020-02-06 16:47:33</td>\n",
       "      <td>Another Thursday another day of good news, my final internal drain is outlet! https://t.co/k8PLBKVDoe</td>\n",
       "      <td>Another Thursday another day of good news, my final internal drain is outlet!</td>\n",
       "      <td>another thursday another day of good news my final internal drain is outlet</td>\n",
       "      <td>another thursday another day of good news my final internal drain be outlet</td>\n",
       "      <td>another thursday another day good news final internal drain outlet</td>\n",
       "    </tr>\n",
       "    <tr>\n",
       "      <th>97</th>\n",
       "      <td>1224808614013079552</td>\n",
       "      <td>2020-02-04 21:35:04</td>\n",
       "      <td>@_Michael_Hansen https://t.co/zXfpslx9RL</td>\n",
       "      <td>@_Michael_Hansen</td>\n",
       "      <td></td>\n",
       "      <td></td>\n",
       "      <td></td>\n",
       "    </tr>\n",
       "    <tr>\n",
       "      <th>98</th>\n",
       "      <td>1222677306868715521</td>\n",
       "      <td>2020-01-30 00:26:00</td>\n",
       "      <td>@ftblpulisic https://t.co/F2BNUZpt6l</td>\n",
       "      <td>@ftblpulisic</td>\n",
       "      <td></td>\n",
       "      <td></td>\n",
       "      <td></td>\n",
       "    </tr>\n",
       "    <tr>\n",
       "      <th>99</th>\n",
       "      <td>1222226667072118784</td>\n",
       "      <td>2020-01-28 18:35:19</td>\n",
       "      <td>Next year is their year though, amirite?  #Perspective https://t.co/auyWKuCxbV</td>\n",
       "      <td>Next year is their year though, amirite?  #Perspective</td>\n",
       "      <td>next year is their year though amirite</td>\n",
       "      <td>next year be their year though amirite</td>\n",
       "      <td>next year year though amirite</td>\n",
       "    </tr>\n",
       "  </tbody>\n",
       "</table>\n",
       "<p>100 rows × 7 columns</p>\n",
       "</div>"
      ],
      "text/plain": [
       "                     id           created_at  \\\n",
       "0   1295375829304827904  2020-08-17 15:03:59   \n",
       "1   1294020145262874625  2020-08-13 21:16:59   \n",
       "2   1293251549653880832  2020-08-11 18:22:51   \n",
       "3   1292587503199887361  2020-08-09 22:24:10   \n",
       "4   1291514661339365378  2020-08-06 23:21:05   \n",
       "..                  ...                  ...   \n",
       "95  1225570536786481156  2020-02-07 00:02:40   \n",
       "96  1225461033877344256  2020-02-06 16:47:33   \n",
       "97  1224808614013079552  2020-02-04 21:35:04   \n",
       "98  1222677306868715521  2020-01-30 00:26:00   \n",
       "99  1222226667072118784  2020-01-28 18:35:19   \n",
       "\n",
       "                                                                                                                                              text  \\\n",
       "0    A year ago, I had just spent my first night of about 45 in hospitals and acute care facilities after a devastatingâ¦ https://t.co/5nzFa0diqV   \n",
       "1   Week after immunotherapy started, so far worst side effect is fatigue for a couple of days with a slightly diminishâ¦ https://t.co/bqxca9iHUf   \n",
       "2   @germanrlopez @DavidAFrench My brother in law (a Brazilian) chaired a national Latino/a student organization recentâ¦ https://t.co/mEcdq4RPm0   \n",
       "3                                                                                                            @talowery2015 https://t.co/LU4HVJ0R0s   \n",
       "4    Encouraging blood work from yesterday. Cancer antigen is down 10 points well into normal range, liver markers highâ¦ https://t.co/MA39YrlXju   \n",
       "..                                                                                                                                             ...   \n",
       "95                                          And this was done during todayâs rare (for Athens at least) tornado warning. https://t.co/fQdmW9k5Ju   \n",
       "96                                           Another Thursday another day of good news, my final internal drain is outlet! https://t.co/k8PLBKVDoe   \n",
       "97                                                                                                        @_Michael_Hansen https://t.co/zXfpslx9RL   \n",
       "98                                                                                                            @ftblpulisic https://t.co/F2BNUZpt6l   \n",
       "99                                                                  Next year is their year though, amirite?  #Perspective https://t.co/auyWKuCxbV   \n",
       "\n",
       "                                                                                                                url_cleaned  \\\n",
       "0    A year ago, I had just spent my first night of about 45 in hospitals and acute care facilities after a devastatingâ¦    \n",
       "1   Week after immunotherapy started, so far worst side effect is fatigue for a couple of days with a slightly diminishâ¦    \n",
       "2   @germanrlopez @DavidAFrench My brother in law (a Brazilian) chaired a national Latino/a student organization recentâ¦    \n",
       "3                                                                                                            @talowery2015    \n",
       "4    Encouraging blood work from yesterday. Cancer antigen is down 10 points well into normal range, liver markers highâ¦    \n",
       "..                                                                                                                      ...   \n",
       "95                                          And this was done during todayâs rare (for Athens at least) tornado warning.    \n",
       "96                                           Another Thursday another day of good news, my final internal drain is outlet!    \n",
       "97                                                                                                        @_Michael_Hansen    \n",
       "98                                                                                                            @ftblpulisic    \n",
       "99                                                                  Next year is their year though, amirite?  #Perspective    \n",
       "\n",
       "                                                                                                        clean_text  \\\n",
       "0       a year ago had just spent my first night of about in hospitals and acute care facilities after devastating   \n",
       "1   week after immunotherapy started so far worst side effect is fatigue for couple of days with slightly diminish   \n",
       "2                                  my brother in law brazilian chaired national latino student organization recent   \n",
       "3                                                                                                                    \n",
       "4    encouraging blood work from yesterday cancer antigen is down points well into normal range liver markers high   \n",
       "..                                                                                                             ...   \n",
       "95                                        and this was done during todays rare for athens at least tornado warning   \n",
       "96                                     another thursday another day of good news my final internal drain is outlet   \n",
       "97                                                                                                                   \n",
       "98                                                                                                                   \n",
       "99                                                                          next year is their year though amirite   \n",
       "\n",
       "                                                                                                   lemma_text  \\\n",
       "0      a year ago have just spend my first night of about in hospital and acute care facility after devastate   \n",
       "1   week after immunotherapy start so far bad side effect be fatigue for couple of day with slightly diminish   \n",
       "2                               my brother in law brazilian chair national latino student organization recent   \n",
       "3                                                                                                               \n",
       "4   encourage blood work from yesterday cancer antigen be down point well into normal range liver marker high   \n",
       "..                                                                                                        ...   \n",
       "95                                       and this be do during today rare for athens at least tornado warning   \n",
       "96                                another thursday another day of good news my final internal drain be outlet   \n",
       "97                                                                                                              \n",
       "98                                                                                                              \n",
       "99                                                                     next year be their year though amirite   \n",
       "\n",
       "                                                                                 after_stpw  \n",
       "0                         year ago spend first night hospital acute care facility devastate  \n",
       "1         week immunotherapy start far bad side effect fatigue couple day slightly diminish  \n",
       "2                   brother law brazilian chair national latino student organization recent  \n",
       "3                                                                                            \n",
       "4   encourage blood work yesterday cancer antigen point well normal range liver marker high  \n",
       "..                                                                                      ...  \n",
       "95                                                  today rare athens least tornado warning  \n",
       "96                       another thursday another day good news final internal drain outlet  \n",
       "97                                                                                           \n",
       "98                                                                                           \n",
       "99                                                            next year year though amirite  \n",
       "\n",
       "[100 rows x 7 columns]"
      ]
     },
     "execution_count": 311,
     "metadata": {},
     "output_type": "execute_result"
    }
   ],
   "source": [
    "df.head(100)"
   ]
  },
  {
   "cell_type": "code",
   "execution_count": 312,
   "metadata": {
    "colab": {
     "base_uri": "https://localhost:8080/",
     "height": 34
    },
    "colab_type": "code",
    "id": "aO9-_J7QcYmb",
    "outputId": "7b365676-f373-4218-e0e7-a994f53d3fe1"
   },
   "outputs": [
    {
     "data": {
      "text/plain": [
       "1178"
      ]
     },
     "execution_count": 312,
     "metadata": {},
     "output_type": "execute_result"
    }
   ],
   "source": [
    "len(df)"
   ]
  },
  {
   "cell_type": "code",
   "execution_count": 313,
   "metadata": {
    "colab": {
     "base_uri": "https://localhost:8080/",
     "height": 34
    },
    "colab_type": "code",
    "id": "CwuGEU6Zcd95",
    "outputId": "f49b77b9-8eb0-4ab4-da75-e6fdbe89b630"
   },
   "outputs": [
    {
     "data": {
      "text/plain": [
       "1178"
      ]
     },
     "execution_count": 313,
     "metadata": {},
     "output_type": "execute_result"
    }
   ],
   "source": [
    "df=df.dropna()\n",
    "len(df)"
   ]
  },
  {
   "cell_type": "code",
   "execution_count": 314,
   "metadata": {
    "colab": {},
    "colab_type": "code",
    "id": "5Iv8bF8T0NhR"
   },
   "outputs": [],
   "source": [
    "Header=[\n",
    "'id','created_at','text','after_stpw']"
   ]
  },
  {
   "cell_type": "code",
   "execution_count": 315,
   "metadata": {
    "colab": {},
    "colab_type": "code",
    "id": "AuynWC4hwufw"
   },
   "outputs": [],
   "source": [
    "\n",
    "\n",
    "\n",
    "df.to_csv(\"NoNotThatKennyG.csv\", sep=',', columns = Header,index=False)"
   ]
  },
  {
   "cell_type": "code",
   "execution_count": 316,
   "metadata": {
    "colab": {
     "base_uri": "https://localhost:8080/",
     "height": 34
    },
    "colab_type": "code",
    "id": "eJESgifGx3RD",
    "outputId": "3c3a37ab-c7b1-4552-eccb-1ad7fa8c3394"
   },
   "outputs": [
    {
     "data": {
      "text/plain": [
       "'/Users/sourabhsharma/Downloads'"
      ]
     },
     "execution_count": 316,
     "metadata": {},
     "output_type": "execute_result"
    }
   ],
   "source": [
    "pwd"
   ]
  },
  {
   "cell_type": "code",
   "execution_count": null,
   "metadata": {},
   "outputs": [],
   "source": []
  },
  {
   "cell_type": "code",
   "execution_count": null,
   "metadata": {},
   "outputs": [],
   "source": []
  },
  {
   "cell_type": "code",
   "execution_count": null,
   "metadata": {},
   "outputs": [],
   "source": []
  },
  {
   "cell_type": "code",
   "execution_count": null,
   "metadata": {},
   "outputs": [],
   "source": []
  },
  {
   "cell_type": "code",
   "execution_count": null,
   "metadata": {},
   "outputs": [],
   "source": []
  },
  {
   "cell_type": "code",
   "execution_count": null,
   "metadata": {},
   "outputs": [],
   "source": []
  }
 ],
 "metadata": {
  "accelerator": "TPU",
  "colab": {
   "collapsed_sections": [],
   "name": "cancer_updated_cleaning_twitter_script.ipynb",
   "provenance": [],
   "toc_visible": true
  },
  "kernelspec": {
   "display_name": "Python 3",
   "language": "python",
   "name": "python3"
  },
  "language_info": {
   "codemirror_mode": {
    "name": "ipython",
    "version": 3
   },
   "file_extension": ".py",
   "mimetype": "text/x-python",
   "name": "python",
   "nbconvert_exporter": "python",
   "pygments_lexer": "ipython3",
   "version": "3.7.3"
  }
 },
 "nbformat": 4,
 "nbformat_minor": 1
}
